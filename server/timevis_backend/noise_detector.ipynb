{
 "cells": [
  {
   "cell_type": "code",
   "execution_count": 1,
   "metadata": {},
   "outputs": [],
   "source": [
    "import numpy as np\n",
    "import json"
   ]
  },
  {
   "cell_type": "code",
   "execution_count": 2,
   "metadata": {},
   "outputs": [],
   "source": [
    "dataset = \"symmetric\""
   ]
  },
  {
   "cell_type": "code",
   "execution_count": 3,
   "metadata": {},
   "outputs": [],
   "source": [
    "path = \"/home/xianglin/projects/DVI_data/noisy/{}/cifar10/embedding.npy\".format(dataset)\n",
    "embeddings = np.load(path)\n",
    "\n",
    "path = \"/home/xianglin/projects/DVI_data/noisy/{}/cifar10/clean_label.json\".format(dataset)\n",
    "with open(path, \"r\") as f:\n",
    "    clean_label = json.load(f)\n",
    "path = \"/home/xianglin/projects/DVI_data/noisy/{}/cifar10/noisy_label.json\".format(dataset)\n",
    "with open(path, \"r\") as f:\n",
    "    noisy_label = json.load(f)\n",
    "\n",
    "clean_label = np.array(clean_label)\n",
    "noisy_label = np.array(noisy_label)"
   ]
  },
  {
   "cell_type": "code",
   "execution_count": null,
   "metadata": {},
   "outputs": [],
   "source": [
    "dataset = \"pairflip\"\n",
    "path = \"/home/xianglin/projects/DVI_data/resnet18_cifar10/embedding.npy\"\n",
    "embeddings = np.load(path)\n",
    "path = \"/home/xianglin/projects/DVI_data/noisy/{}/cifar10/clean_label.json\".format(dataset)\n",
    "with open(path, \"r\") as f:\n",
    "    clean_label = json.load(f)\n",
    "    \n",
    "clean_label = np.array(clean_label)\n",
    "noisy_label = np.copy(clean_label)"
   ]
  },
  {
   "cell_type": "code",
   "execution_count": 4,
   "metadata": {},
   "outputs": [
    {
     "data": {
      "text/plain": [
       "(50000, 200, 2)"
      ]
     },
     "execution_count": 4,
     "metadata": {},
     "output_type": "execute_result"
    }
   ],
   "source": [
    "embeddings = embeddings.reshape(50000,-1,2)\n",
    "embeddings.shape"
   ]
  },
  {
   "cell_type": "code",
   "execution_count": 5,
   "metadata": {},
   "outputs": [],
   "source": [
    "from noise_detector import NoiseTrajectoryDetector\n",
    "ntd = NoiseTrajectoryDetector(embeddings, noisy_label)"
   ]
  },
  {
   "cell_type": "code",
   "execution_count": 7,
   "metadata": {},
   "outputs": [
    {
     "name": "stdout",
     "output_type": "stream",
     "text": [
      "Suspect abnormal in embedding...\n",
      "Calculating umap scores...\n",
      "Suspect abnormal in embedding...\n",
      "Calculating umap scores...\n",
      "Suspect abnormal in embedding...\n",
      "Calculating umap scores...\n",
      "Suspect abnormal in embedding...\n",
      "Calculating umap scores...\n",
      "Suspect abnormal in embedding...\n",
      "Calculating umap scores...\n",
      "Suspect abnormal in embedding...\n",
      "Calculating umap scores...\n",
      "Suspect abnormal in embedding...\n",
      "Calculating umap scores...\n",
      "Suspect abnormal in embedding...\n",
      "Calculating umap scores...\n",
      "Suspect abnormal in embedding...\n",
      "Calculating umap scores...\n",
      "Suspect abnormal in embedding...\n",
      "Calculating umap scores...\n"
     ]
    }
   ],
   "source": [
    "# cls_num=2\n",
    "# ntd.proj_cls(cls_num, period=75, repeat=2)\n",
    "ntd.proj_all(period=75) # 75"
   ]
  },
  {
   "cell_type": "code",
   "execution_count": null,
   "metadata": {},
   "outputs": [],
   "source": [
    "for cls_num in range(10):\n",
    "    # print(cls_num, ntd.detect_noise_cls(cls_num))\n",
    "    best_s, best_c = ntd.trajectory_eval[str(cls_num)]\n",
    "    print(\"silhouette_score\\t\", best_s)\n",
    "    print(\"calinski_harabasz_score\\t\", best_c)\n",
    "    flag = best_c>.5\n",
    "\n",
    "    print(cls_num, flag)"
   ]
  },
  {
   "cell_type": "code",
   "execution_count": null,
   "metadata": {},
   "outputs": [],
   "source": [
    "for cls_num in range(10):\n",
    "    # print(cls_num, ntd.detect_noise_cls(cls_num))\n",
    "    best_s, best_c = ntd.trajectory_eval[str(cls_num)]\n",
    "    print(\"silhouette_score\\t\", best_s)\n",
    "    print(\"calinski_harabasz_score\\t\", best_c)\n",
    "    flag = best_c>.5\n",
    "    print(cls_num, flag)"
   ]
  },
  {
   "cell_type": "code",
   "execution_count": null,
   "metadata": {},
   "outputs": [],
   "source": [
    "for num in range(10):\n",
    "    ntd.show_ground_truth(num,clean_label[noisy_label==num])\n",
    "    ntd.show_scores(num)"
   ]
  },
  {
   "cell_type": "code",
   "execution_count": null,
   "metadata": {},
   "outputs": [],
   "source": [
    "for num in range(10):\n",
    "    ntd.show_ground_truth(num,clean_label[noisy_label==num])\n",
    "    ntd.show_scores(num)"
   ]
  },
  {
   "cell_type": "code",
   "execution_count": null,
   "metadata": {},
   "outputs": [],
   "source": [
    "from noise_detector import select_closest\n",
    "import math\n",
    "\n",
    "for num in range(10):\n",
    "    print(\"=================================={}=========================================\".format(num))\n",
    "    clean_labels = clean_label[noisy_label==num]\n",
    "    ntd.show_ground_truth(num,clean_labels)\n",
    "\n",
    "    c = ntd.sub_centers[str(num)]\n",
    "    embedding = ntd.trajectory_embedding[str(num)]\n",
    "    centroids = embedding[c]\n",
    "\n",
    "    # vote for labels and scores\n",
    "    c_labels = select_closest(embedding, centroids)\n",
    "    centroid_labels = np.zeros(len(centroids))\n",
    "    for i in range(len(centroids)):\n",
    "        centroid_labels[i] = np.bincount(clean_labels[c_labels==i]).argmax()\n",
    "\n",
    "    gt = centroid_labels\n",
    "    nt = np.sum(gt!=num)\n",
    "    ct = len(c) - nt\n",
    "\n",
    "    curr_nt = nt\n",
    "    flag = math.floor(nt*0.9)\n",
    "    target_flag = flag\n",
    "\n",
    "    for t in range(len(c)):\n",
    "        id, _, selected = ntd.suggest_abnormal(num)\n",
    "        d = False\n",
    "        # if clean_label[noisy_label==num][id] != num:ß\n",
    "        if gt[id] != num:\n",
    "            d = True\n",
    "            flag=flag-1\n",
    "            curr_nt=curr_nt-1\n",
    "        ntd.update_belief(num, selected, d)\n",
    "        # ntd.show_verified(num)\n",
    "        if flag==0:\n",
    "            print(\"[{}]\\t{} rounds find {} (90%) noise samples\".format(target_flag/(t+1), t+1, target_flag))\n",
    "            flag=10000\n",
    "        if curr_nt==0:\n",
    "            print(\"[{}]\\t{} rounds find all {} noise samples\".format(nt/(t+1), t+1, len(c)-ct))\n",
    "            break"
   ]
  },
  {
   "cell_type": "code",
   "execution_count": null,
   "metadata": {},
   "outputs": [],
   "source": [
    "from noise_detector import select_closest\n",
    "import math\n",
    "\n",
    "# Ground Truth\n",
    "for num in range(10):\n",
    "    print(\"=================================={}=========================================\".format(num))\n",
    "    clean_labels = clean_label[noisy_label==num]\n",
    "    ntd.show_ground_truth(num,clean_labels)\n",
    "\n",
    "    c = ntd.sub_centers[str(num)]\n",
    "    embedding = ntd.trajectory_embedding[str(num)]\n",
    "    centroids = embedding[c]\n",
    "\n",
    "    # vote for labels and scores\n",
    "    c_labels = select_closest(embedding, centroids)\n",
    "    centroid_labels = np.zeros(len(centroids))\n",
    "    for i in range(len(centroids)):\n",
    "        centroid_labels[i] = np.bincount(clean_labels[c_labels==i]).argmax()\n",
    "\n",
    "    gt = centroid_labels\n",
    "    nt = np.sum(gt!=num)\n",
    "    ct = len(c) - nt\n",
    "\n",
    "    curr_nt = nt\n",
    "    flag = math.floor(nt*0.9)\n",
    "    target_flag = flag\n",
    "\n",
    "    candidate_list = np.arange(len(c)).tolist()\n",
    "\n",
    "    for t in range(len(c)):\n",
    "        # id, _, selected = ntd.suggest_abnormal(num)\n",
    "        id = np.random.choice(candidate_list,1)[0]\n",
    "        selected = centroids[id]\n",
    "        candidate_list.remove(id)\n",
    "        d = False\n",
    "        # if clean_label[noisy_label==num][id] != num:\n",
    "        if gt[id] != num:\n",
    "            d = True\n",
    "            flag=flag-1\n",
    "            curr_nt=curr_nt-1\n",
    "        ntd.update_belief(num, selected, d)\n",
    "        if flag==0:\n",
    "            print(\"[{}]\\t{} rounds find {} (90%) noise samples\".format(target_flag/(t+1), t+1, target_flag))\n",
    "            flag=10000\n",
    "        if curr_nt==0:\n",
    "            print(\"[{}]\\t{} rounds find all {} noise samples\".format(nt/(t+1), t+1, len(c)-ct))\n",
    "            break"
   ]
  }
 ],
 "metadata": {
  "kernelspec": {
   "display_name": "Python 3.7.12 ('SV')",
   "language": "python",
   "name": "python3"
  },
  "language_info": {
   "codemirror_mode": {
    "name": "ipython",
    "version": 3
   },
   "file_extension": ".py",
   "mimetype": "text/x-python",
   "name": "python",
   "nbconvert_exporter": "python",
   "pygments_lexer": "ipython3",
   "version": "3.7.12"
  },
  "orig_nbformat": 4,
  "vscode": {
   "interpreter": {
    "hash": "aa7a9f36e1a1e240450dbe9cc8f6d8df1d5301f36681fb271c44fdd883236b60"
   }
  }
 },
 "nbformat": 4,
 "nbformat_minor": 2
}
